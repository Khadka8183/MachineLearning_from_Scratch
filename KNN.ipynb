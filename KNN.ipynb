{
 "cells": [
  {
   "cell_type": "markdown",
   "id": "1b57fab2",
   "metadata": {},
   "source": [
    "# Steps for computing KNN\n",
    "\n",
    "\n",
    "1. Compute Euclidean distance for a test data for each training point \n",
    "2. Sort the distance and use the indices to find first K-nearest neighbour \n",
    "3. vote up to make the predictions "
   ]
  },
  {
   "cell_type": "markdown",
   "id": "b788cd8f",
   "metadata": {},
   "source": [
    "\\begin{align}\n",
    "EuclideanDistance = \\sqrt{(x_{2} - x_{1})^{2} + (y_{2} - y_{1})^{2}} \n",
    "\\end{align}"
   ]
  },
  {
   "cell_type": "code",
   "execution_count": 1,
   "id": "63fbc35c",
   "metadata": {},
   "outputs": [],
   "source": [
    "import numpy as np \n",
    "import pandas as pd \n",
    "import matplotlib.pyplot as plt\n",
    "\n",
    "\n",
    "from sklearn import datasets\n",
    "from sklearn.model_selection import train_test_split\n",
    "\n",
    "cancer = datasets.load_breast_cancer()\n",
    "X = cancer.data\n",
    "y = cancer.target\n",
    "\n",
    "x_train,x_test,y_train,y_test = train_test_split(X,y,test_size=0.3,random_state=42)"
   ]
  },
  {
   "cell_type": "code",
   "execution_count": 2,
   "id": "d9bd49cd",
   "metadata": {},
   "outputs": [],
   "source": [
    "def KNN(x_train, x_test,y_train, k_neighbour):\n",
    "    \n",
    "    \n",
    "    #sorted_euclidean_distance = []\n",
    "    #sorted_labels = []\n",
    "    predictions = []\n",
    "    \n",
    "    for i in range(x_test.shape[0]):\n",
    "        unsorted_euclidean_distance = []\n",
    "        for j in range(x_train.shape[0]):\n",
    "            #Euclidean distance between test and training data\n",
    "            euclidean_distance = np.sqrt(np.sum((x_train[j] - x_test[i])**2))\n",
    "            unsorted_euclidean_distance.append(euclidean_distance)\n",
    "        \n",
    "        neighbour = y_train[np.argsort(unsorted_euclidean_distance)[:k_neighbour]]\n",
    "       \n",
    "        #labels\n",
    "        max_neighbour = np.bincount(neighbour)\n",
    "        prediction = np.argmax(max_neighbour)\n",
    "        predictions.append(prediction)\n",
    "        \n",
    "       \n",
    "        \n",
    "    return predictions"
   ]
  },
  {
   "cell_type": "code",
   "execution_count": 3,
   "id": "fa9b1da3",
   "metadata": {},
   "outputs": [
    {
     "name": "stdout",
     "output_type": "stream",
     "text": [
      "Accuracy : 0.9649122807017544\n"
     ]
    }
   ],
   "source": [
    "#k_neighbour = 7\n",
    "y_pred = KNN(x_train,x_test,y_train, 7)\n",
    "predication_rate = (y_pred == y_test).mean()\n",
    "print('Accuracy : {}'.format(predication_rate))"
   ]
  },
  {
   "cell_type": "code",
   "execution_count": null,
   "id": "f0669b84",
   "metadata": {},
   "outputs": [],
   "source": []
  }
 ],
 "metadata": {
  "kernelspec": {
   "display_name": "Python 3.10.5 64-bit",
   "language": "python",
   "name": "python3"
  },
  "language_info": {
   "codemirror_mode": {
    "name": "ipython",
    "version": 3
   },
   "file_extension": ".py",
   "mimetype": "text/x-python",
   "name": "python",
   "nbconvert_exporter": "python",
   "pygments_lexer": "ipython3",
   "version": "3.10.5"
  },
  "latex_envs": {
   "LaTeX_envs_menu_present": true,
   "autoclose": false,
   "autocomplete": true,
   "bibliofile": "biblio.bib",
   "cite_by": "apalike",
   "current_citInitial": 1,
   "eqLabelWithNumbers": true,
   "eqNumInitial": 1,
   "hotkeys": {
    "equation": "Ctrl-E",
    "itemize": "Ctrl-I"
   },
   "labels_anchors": false,
   "latex_user_defs": false,
   "report_style_numbering": false,
   "user_envs_cfg": false
  },
  "toc": {
   "base_numbering": 1,
   "nav_menu": {},
   "number_sections": true,
   "sideBar": true,
   "skip_h1_title": false,
   "title_cell": "Table of Contents",
   "title_sidebar": "Contents",
   "toc_cell": false,
   "toc_position": {},
   "toc_section_display": true,
   "toc_window_display": false
  },
  "vscode": {
   "interpreter": {
    "hash": "1e6777404cc7eb28e5b808e7807006eb549a6339bdaf82fda99a64f1f5a83e79"
   }
  }
 },
 "nbformat": 4,
 "nbformat_minor": 5
}
