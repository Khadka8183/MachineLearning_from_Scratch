{
 "cells": [
  {
   "cell_type": "markdown",
   "id": "4532fae2",
   "metadata": {},
   "source": [
    "# SVM\n",
    "\n",
    "__Decission Boundary__\n",
    "\\begin{equation}\n",
    "\\text{Decision Boundary}: y = w*x + b = 0 \n",
    "\\end{equation}\n",
    "\n",
    "__The Hyperplane H1 and H2__\n",
    "\\begin{equation}\n",
    "\\begin{aligned}\n",
    " w*x + b  \\geq 1  \\; \\text{if} \\: y_i = 1\\\\\n",
    " w*x + b  \\leq -1 \\; \\text{if} \\: y_i =-1\n",
    "\\end{aligned}\n",
    "\\end{equation}\n",
    "\n",
    "\n",
    "__1. combining both equation of hyperplane in one__\n",
    "\n",
    "\\begin{equation}\n",
    " y_i(w*x + b)  \\geq 1  \\; \\forall_i \\in  \\; \\{1 \\cdots n \\}\n",
    "\\end{equation}\n",
    "\n",
    "\n",
    "Margin\n",
    "\\begin{equation}\n",
    "\\text{Margin}: x_2 -x_1 \\cdot \\frac{w}{\\lVert  w  \\rVert} :=\\frac{2}{\\lVert  w  \\rVert}\n",
    "\\end{equation}\n",
    "\n",
    "Cost function for the determination of separting plane\n",
    "\\begin{equation}\n",
    "\\begin{aligned}\n",
    "\\text{h(w,b)} = \\text{min}\\frac{1}{2}\\lVert  w  \\rVert^2 \\\\\n",
    "\\text{with constraints} \\: g_i(w,b)= y_i(w*x + b) \\geq 1 := y_i(w*x + b) -1 \\geq 0\n",
    "\\end{aligned}\n",
    "\\end{equation}\n",
    "\n",
    "\n",
    "SVM Lagrange Problem\n",
    "\n",
    "\\begin{equation}\n",
    "J(w,b) =\\alpha \\cdot \\frac{1}{2}\\lVert  w  \\rVert^2 + \\frac{1}{n}\\sum_{i=1}^{n} max(0, [1 - y_i(w.x_i +b)])\n",
    "\\end{equation}\n",
    "\n",
    "__2. cases__\n",
    "\n",
    "\\begin{equation}\n",
    "\\begin{aligned}\n",
    " \\text{If}  \\:  \\:  y_i(w*x + b)  \\geq 1, \\text{then} \\:  \\:  \\:  J(w,b) =\\alpha \\cdot \\frac{1}{2}\\lVert  w  \\rVert^2  \\\\\n",
    " \\text{else} \\:  \\:  J(w,b) =\\alpha \\cdot \\frac{1}{2}\\lVert  w  \\rVert^2 +  [1 - y_i(w.x_i +b)]\n",
    "\\end{aligned}\n",
    "\\end{equation}\n",
    "\n",
    "__case :1, partial derivative__\n",
    "\\begin{equation}\n",
    "\\begin{aligned}\n",
    "\\frac{\\partial J}{\\partial w}  =\\alpha   w_k  \\\\\n",
    "\\frac{\\partial J}{\\partial b}  = 0\n",
    "\\end{aligned}\n",
    "\\end{equation}\n",
    "\n",
    "\n",
    "\n",
    "__case :2, partial derivative__\n",
    "\\begin{equation}\n",
    "\\begin{aligned}\n",
    "\\frac{\\partial J}{\\partial w}  =\\alpha   w_k -y_ix_i \\\\\n",
    "\\frac{\\partial J}{\\partial b}  = -y_i\n",
    "\\end{aligned}\n",
    "\\end{equation}"
   ]
  },
  {
   "cell_type": "code",
   "execution_count": 1,
   "id": "9e1cc455",
   "metadata": {},
   "outputs": [
    {
     "data": {
      "image/png": "[encoded data removed]",
      "text/plain": [
       "<Figure size 432x288 with 1 Axes>"
      ]
     },
     "metadata": {
      "needs_background": "light"
     },
     "output_type": "display_data"
    }
   ],
   "source": [
    "import numpy as np \n",
    "import pandas as pd \n",
    "import matplotlib.pyplot as plt\n",
    "\n",
    "\n",
    "x = np.linspace(0,100,10)\n",
    "y = 2*x -3\n",
    "y1= y - 20 \n",
    "y2= y + 20 \n",
    "\n",
    "plt.plot(x,y, '--')\n",
    "plt.plot(x,y1)\n",
    "plt.plot(x,y2)\n",
    "\n",
    "\n",
    "plt.text(60,170, 'w*x-b =-1')\n",
    "plt.text(40,80,  'w*x-b = 0')\n",
    "plt.text(20,10,  'w*x-b = 1')\n",
    "plt.show()\n",
    "\n"
   ]
  },
  {
   "cell_type": "code",
   "execution_count": 2,
   "id": "13033e6e",
   "metadata": {},
   "outputs": [],
   "source": [
    "class SVM():\n",
    "\n",
    "    def __init__(self, epochs =10000, lr =0.001, Lambda=0.01):\n",
    "\n",
    "        self.Lambda = Lambda\n",
    "        self.epochs = epochs\n",
    "        self.lr = lr \n",
    "\n",
    "        self.w = None\n",
    "        self.b = None\n",
    "\n",
    "    def fit(self, x, y):\n",
    "\n",
    "        _, n_features = x.shape\n",
    "\n",
    "        # Intilize w and b\n",
    "        self.w = np.zeros((1,n_features))\n",
    "        self.b = 0\n",
    "\n",
    "        y = np.where(y<=0, -1 ,1)\n",
    "\n",
    "        for epoch in range(self.epochs):\n",
    "            for idx,values in enumerate(x):\n",
    "\n",
    "                # linear model\n",
    "                z = np.dot(values, self.w.T) + self.b\n",
    "                \n",
    "\n",
    "                # Condition\n",
    "                constrain = y[idx]*z >=1\n",
    "                \n",
    "\n",
    "                values = values.reshape((n_features,1))\n",
    "                y[idx] = y[idx].reshape((1,1))\n",
    "                 \n",
    "\n",
    "                # check Condition\n",
    "                if constrain:\n",
    "                    dw = self.Lambda*self.w\n",
    "                    db = 0\n",
    "                else:\n",
    "                    dw = self.Lambda*self.w - np.dot(values, y[idx])\n",
    "                    db = -y[idx]  \n",
    "\n",
    "                # Gradient Descent\n",
    "                self.w = self.w - self.lr*dw\n",
    "                self.b = self.b - self.lr*db\n",
    "\n",
    "            if epoch %1000 ==0:\n",
    "                print(f'Epoch {epoch}')\n",
    "\n",
    "\n",
    "\n",
    "    def predict(self, x, y):\n",
    "        y_pred = np.dot(x,self.w.T) + self.b\n",
    "        y_pred = np.sign(y_pred)  \n",
    "        y_pred = np.where(y_pred ==-1,0,1)    \n",
    "        return (y==y_pred).mean()\n",
    "\n",
    "        \n"
   ]
  },
  {
   "cell_type": "code",
   "execution_count": 3,
   "id": "5c4e7965",
   "metadata": {},
   "outputs": [],
   "source": [
    "df = pd.read_csv('data/ion.csv')\n",
    "df.drop(columns = ['Unnamed: 0', 'V1', 'V2'], inplace = True)\n",
    "df.Class = np.where(df.Class == 'good', 1,0)\n",
    "\n",
    "\n",
    "from sklearn.model_selection import train_test_split\n",
    "X = df.drop(columns=['Class']).values\n",
    "y = df.Class.values\n",
    "\n",
    "\n",
    "# let's apply pca since we have large number of features vector\n",
    "from sklearn.decomposition import  PCA\n",
    "pca = PCA(n_components=10)\n",
    "X = pca.fit_transform(X)\n",
    "\n",
    "\n",
    "x_train, x_test, y_train, y_test = train_test_split(X, y, test_size=0.2, random_state=42)\n",
    "\n",
    "y_train = y_train.reshape((y_train.shape[0], 1))\n",
    "y_test  = y_test.reshape((y_test.shape[0], 1))\n",
    "\n"
   ]
  },
  {
   "cell_type": "code",
   "execution_count": 4,
   "id": "5d2fcdf3",
   "metadata": {},
   "outputs": [
    {
     "name": "stdout",
     "output_type": "stream",
     "text": [
      "Epoch 0\n",
      "Epoch 1000\n",
      "Epoch 2000\n",
      "Epoch 3000\n",
      "Epoch 4000\n",
      "Epoch 5000\n",
      "Epoch 6000\n",
      "Epoch 7000\n",
      "Epoch 8000\n",
      "Epoch 9000\n"
     ]
    }
   ],
   "source": [
    "svm = SVM()\n",
    "svm.fit(x_train,y_train)"
   ]
  },
  {
   "cell_type": "code",
   "execution_count": 5,
   "id": "d7dc7222",
   "metadata": {},
   "outputs": [
    {
     "data": {
      "text/plain": [
       "0.8591549295774648"
      ]
     },
     "execution_count": 5,
     "metadata": {},
     "output_type": "execute_result"
    }
   ],
   "source": [
    "svm.predict(x_test,y_test)"
   ]
  },
  {
   "cell_type": "code",
   "execution_count": null,
   "id": "5b8435f0",
   "metadata": {},
   "outputs": [],
   "source": []
  }
 ],
 "metadata": {
  "kernelspec": {
   "display_name": "Python 3.10.5 64-bit",
   "language": "python",
   "name": "python3"
  },
  "language_info": {
   "codemirror_mode": {
    "name": "ipython",
    "version": 3
   },
   "file_extension": ".py",
   "mimetype": "text/x-python",
   "name": "python",
   "nbconvert_exporter": "python",
   "pygments_lexer": "ipython3",
   "version": "3.10.5"
  },
  "latex_envs": {
   "LaTeX_envs_menu_present": true,
   "autoclose": false,
   "autocomplete": true,
   "bibliofile": "biblio.bib",
   "cite_by": "apalike",
   "current_citInitial": 1,
   "eqLabelWithNumbers": true,
   "eqNumInitial": 1,
   "hotkeys": {
    "equation": "Ctrl-E",
    "itemize": "Ctrl-I"
   },
   "labels_anchors": false,
   "latex_user_defs": false,
   "report_style_numbering": false,
   "user_envs_cfg": false
  },
  "toc": {
   "base_numbering": 1,
   "nav_menu": {},
   "number_sections": true,
   "sideBar": true,
   "skip_h1_title": false,
   "title_cell": "Table of Contents",
   "title_sidebar": "Contents",
   "toc_cell": false,
   "toc_position": {},
   "toc_section_display": true,
   "toc_window_display": false
  },
  "vscode": {
   "interpreter": {
    "hash": "1e6777404cc7eb28e5b808e7807006eb549a6339bdaf82fda99a64f1f5a83e79"
   }
  }
 },
 "nbformat": 4,
 "nbformat_minor": 5
}
