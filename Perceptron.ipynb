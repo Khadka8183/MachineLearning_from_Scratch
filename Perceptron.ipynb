{
 "cells": [
  {
   "cell_type": "code",
   "execution_count": 1,
   "metadata": {},
   "outputs": [],
   "source": [
    "import numpy as np\n",
    "import pandas as pd "
   ]
  },
  {
   "cell_type": "code",
   "execution_count": 2,
   "metadata": {},
   "outputs": [
    {
     "data": {
      "text/plain": [
       "0.9999999992417439"
      ]
     },
     "execution_count": 2,
     "metadata": {},
     "output_type": "execute_result"
    }
   ],
   "source": [
    "# 1. intution of single perceptron/neuron  \n",
    "\n",
    "inputs = np.array([1,2,3])\n",
    "\n",
    "# 2. weight\n",
    "w = np.random.randint(0,9, size=(3))\n",
    "\n",
    "\n",
    "\n",
    "# bais \n",
    "b = 0 \n",
    "\n",
    "\n",
    "# 3. dot product of x and w\n",
    "z = np.dot(inputs, w) + b \n",
    "\n",
    "\n",
    "# 4. now passing the result through activation function, in this case sigmoid function\n",
    "output = 1/(1 + np.exp(-z))\n",
    "output \n",
    "\n",
    "\n",
    "# 5. apply update rule to update weight and bais\n",
    " "
   ]
  },
  {
   "cell_type": "code",
   "execution_count": 3,
   "metadata": {},
   "outputs": [
    {
     "name": "stdout",
     "output_type": "stream",
     "text": [
      "(4,)\n"
     ]
    },
    {
     "data": {
      "text/plain": [
       "array([1., 1., 1.])"
      ]
     },
     "execution_count": 3,
     "metadata": {},
     "output_type": "execute_result"
    }
   ],
   "source": [
    "# 1. intution of three perceptron/neuron  \n",
    "\n",
    "inputs = np.array([1,2,3,4])\n",
    "print(inputs.shape)\n",
    "\n",
    "# 2. weight is here 3*4 \n",
    "# size of w = size(neuron_number =3, feature_vector of inputs = 4)\n",
    "# since the input for each neuron remains same, only the weight and bais changes for each neuron\n",
    "\n",
    "# size of w = size(neuron_number, feature_vector)\n",
    "w = np.random.randint(0,9, size=(3,4))\n",
    "\n",
    "\n",
    "\n",
    "# bais \n",
    "b = np.random.randint(0,9,size=(3))\n",
    "\n",
    "\n",
    "# 3. dot product of x and w\n",
    "z = np.dot(inputs, w.T ) + b \n",
    "z \n",
    "\n",
    "\n",
    "# 4. now passing the result through activation function, in this case sigmoid function\n",
    "layer1 = 1/(1 + np.exp(-z))\n",
    "layer1 \n",
    "\n",
    "\n",
    "# apply update rule "
   ]
  },
  {
   "cell_type": "code",
   "execution_count": 4,
   "metadata": {},
   "outputs": [
    {
     "data": {
      "text/plain": [
       "array([[0.9999833 , 0.99999998],\n",
       "       [0.9999833 , 0.99999998],\n",
       "       [0.9999833 , 0.99999998]])"
      ]
     },
     "execution_count": 4,
     "metadata": {},
     "output_type": "execute_result"
    }
   ],
   "source": [
    "# 1. intution of three perceptron/neuron as first layer, having 4 neuron at the middle and 2 layer at the output \n",
    "\n",
    "# input vector is 3*4 \n",
    "inputs = np.array([[1,2,3,4],   \n",
    "                   [2,3,4,1],\n",
    "                   [2,1,4,6]])\n",
    "\n",
    "\n",
    "# 2. since we want 3 neuron at first layer,  the size of weight (neuron_number, features_vector) = (3,4) \n",
    "w1 = np.random.randint(0,9, size=(3,4))\n",
    "\n",
    "\n",
    "\n",
    "# bais = number of neuron\n",
    "b1 = np.random.randint(0,9,size=(3))\n",
    "\n",
    "\n",
    "# 3. dot product of x and w\n",
    "z1 = np.dot(inputs, w1.T) + b1\n",
    "\n",
    "\n",
    "\n",
    "# 4. now passing the result through activation function\n",
    "layer1 = 1/(1 + np.exp(-z1))\n",
    " \n",
    "\n",
    "\n",
    "# second layer has now 4 neuron, layer1 has 3 features vector\n",
    "# size of weight w = (neuron_number, features_vectors)\n",
    "\n",
    "w2 = np.random.randint(0,9, size=(4,3))\n",
    "\n",
    "# bais = \n",
    "b2 = np.random.randint(0,9, size=(4))\n",
    "\n",
    "# dot product of x and w\n",
    "z2 = np.dot(layer1, w2.T) + b2 \n",
    "\n",
    "\n",
    "# 4. now passing the result through activation function\n",
    "layer2 = 1/(1 + np.exp(-z2))\n",
    "\n",
    "# last layer has two neuron \n",
    "w3 = np.random.randint(0, 9, size=(2,4))\n",
    "\n",
    "# bais \n",
    "b3 = np.random.randint(0,9, size=(2))\n",
    "\n",
    "# dot product of x and w\n",
    "z3 = np.dot(layer2, w3.T) + b3\n",
    "\n",
    "\n",
    "# output \n",
    "output = 1/(1 + np.exp(-z3))\n",
    "output \n",
    "\n"
   ]
  },
  {
   "cell_type": "code",
   "execution_count": 5,
   "metadata": {},
   "outputs": [],
   "source": [
    "class perceptron():\n",
    "\n",
    "    def __init__(self, epochs = 10000, lr = 0.001):\n",
    "        self.epochs = epochs\n",
    "        self.lr = lr \n",
    "\n",
    "        self.w = None\n",
    "        self.b = None\n",
    "   \n",
    "    def forward_propagation(self, x, y, neuron):\n",
    "\n",
    "        _, n_features = x.shape\n",
    "\n",
    "        self.w = np.zeros((neuron, n_features))\n",
    "        self.b = np.zeros(neuron)\n",
    "\n",
    "        for epoch in range(self.epochs):\n",
    "            for idx, values in enumerate(x):\n",
    "\n",
    "                # calulate dot product\n",
    "                output1 = np.dot(values, self.w.T) + self.b\n",
    "                \n",
    "            \n",
    "                # applying activation function\n",
    "                y_pred = self.sigmoid(output1)\n",
    "                \n",
    "\n",
    "                # perceptron update rule \n",
    "                error = self.lr*(y[idx] - y_pred)\n",
    "            \n",
    "                \n",
    "                # update parameters\n",
    "                self.w = self.w + error*values\n",
    "                self.b = self.b + error\n",
    "\n",
    "            if epoch%1000 == 0:\n",
    "                print(f'Epochs: {epoch}')\n",
    "\n",
    "\n",
    "    def sigmoid(self, z):\n",
    "        return np.array(1/(1+np.exp(-z)))\n",
    "\n",
    "    def predict(self, x, y):\n",
    "        z = np.dot(x,self.w.T) + self.b\n",
    "        y_pred = self.sigmoid(z)\n",
    "        y_pred = np.where(y_pred >=0.5,1,0)\n",
    "        return (y_pred ==y).mean()\n"
   ]
  },
  {
   "cell_type": "code",
   "execution_count": 6,
   "metadata": {},
   "outputs": [],
   "source": [
    "df = pd.read_csv('data/ion.csv')\n",
    "df.drop(columns = ['Unnamed: 0', 'V1', 'V2'], inplace = True)\n",
    "df.Class = np.where(df.Class == 'good', 1,0)\n",
    "\n",
    "\n",
    "from sklearn.model_selection import train_test_split\n",
    "X = df.drop(columns=['Class']).values\n",
    "y = df.Class.values\n",
    "\n",
    "# let's apply pca since we have large number of features vector\n",
    "from sklearn.decomposition import  PCA\n",
    "pca = PCA(n_components=10)\n",
    "X = pca.fit_transform(X)\n",
    "\n",
    "x_train, x_test, y_train, y_test = train_test_split(X, y, test_size=0.2, random_state=42)\n",
    "\n",
    "y_train = y_train.reshape((y_train.shape[0], 1))\n",
    "y_test  = y_test.reshape((y_test.shape[0], 1))\n"
   ]
  },
  {
   "cell_type": "code",
   "execution_count": 8,
   "metadata": {},
   "outputs": [
    {
     "name": "stdout",
     "output_type": "stream",
     "text": [
      "Epochs: 0\n",
      "Epochs: 1000\n",
      "Epochs: 2000\n",
      "Epochs: 3000\n",
      "Epochs: 4000\n",
      "Epochs: 5000\n",
      "Epochs: 6000\n",
      "Epochs: 7000\n",
      "Epochs: 8000\n",
      "Epochs: 9000\n"
     ]
    },
    {
     "data": {
      "text/plain": [
       "0.8591549295774648"
      ]
     },
     "execution_count": 8,
     "metadata": {},
     "output_type": "execute_result"
    }
   ],
   "source": [
    "# class model \n",
    "m = perceptron(epochs=10000, lr =0.001)\n",
    "m.forward_propagation(x_train, y_train, neuron=1)\n",
    "m.predict(x_test,y_test)"
   ]
  },
  {
   "cell_type": "code",
   "execution_count": null,
   "metadata": {},
   "outputs": [],
   "source": []
  }
 ],
 "metadata": {
  "kernelspec": {
   "display_name": "Python 3.10.5 64-bit",
   "language": "python",
   "name": "python3"
  },
  "language_info": {
   "codemirror_mode": {
    "name": "ipython",
    "version": 3
   },
   "file_extension": ".py",
   "mimetype": "text/x-python",
   "name": "python",
   "nbconvert_exporter": "python",
   "pygments_lexer": "ipython3",
   "version": "3.10.5"
  },
  "orig_nbformat": 4,
  "vscode": {
   "interpreter": {
    "hash": "1e6777404cc7eb28e5b808e7807006eb549a6339bdaf82fda99a64f1f5a83e79"
   }
  }
 },
 "nbformat": 4,
 "nbformat_minor": 2
}
