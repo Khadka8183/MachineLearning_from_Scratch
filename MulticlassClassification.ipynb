{
 "cells": [
  {
   "cell_type": "markdown",
   "metadata": {},
   "source": [
    "# Logistic Regression \n",
    "\n",
    "__Linear Function__\n",
    "\\begin{equation}\n",
    "z = \\sum_{i=1}^{n} w_i\\cdot x_i + b  \n",
    "\\end{equation}\n",
    "\n",
    "\n",
    "\n",
    "# Softmax function\n",
    "\n",
    "__The Softmax for the c'th class is defined as__ \n",
    "\n",
    "\\begin{equation}\n",
    "\\frac{e^{Zc}}{\\sum_{c}^{c=1}e^{Zc}}\n",
    "\\end{equation}\n",
    "\n",
    "__where Z = w.X + b, y_hat = Softamx(w.X+b) and c = number of classes__\n",
    "\n",
    "\n",
    "# Cross-Entropy Loss\n",
    "\n",
    "\\begin{equation}\n",
    "L = -\\sum_{c}^{c=1}y_{c}log(\\hat{y_c})\n",
    "\\end{equation}"
   ]
  },
  {
   "cell_type": "code",
   "execution_count": 1,
   "metadata": {},
   "outputs": [],
   "source": [
    "import numpy as np \n",
    "import matplotlib.pyplot as plt\n",
    "\n",
    "\n",
    "from sklearn.model_selection import train_test_split\n",
    "from sklearn.preprocessing import StandardScaler\n",
    "from sklearn import datasets\n",
    "\n",
    "iris = datasets.load_iris()\n",
    "scalar = StandardScaler()\n",
    "\n",
    "X = iris.data\n",
    "X = scalar.fit_transform(X)\n",
    "y = iris.target\n",
    "\n",
    "x_train,x_test,y_train,y_test = train_test_split(X,y, test_size=0.2, random_state=42)"
   ]
  },
  {
   "cell_type": "markdown",
   "metadata": {},
   "source": [
    "__Shapes__\n",
    "\n",
    "__X -------> n_samples, n_features__\n",
    "<br>\n",
    "__y_hot --> n_samples, n_class__\n",
    "<br>\n",
    "__w --------> n_class, n_features__"
   ]
  },
  {
   "cell_type": "code",
   "execution_count": 2,
   "metadata": {},
   "outputs": [],
   "source": [
    "class SoftmaxRegression():\n",
    "\n",
    "    def __init__(self, epochs = 1000, lr = 0.001, n_class = 3):\n",
    "\n",
    "        self.n_class = n_class\n",
    "        self.epochs = epochs \n",
    "        self.lr = lr\n",
    "        \n",
    "        self.w = None\n",
    "        self.b = None \n",
    "\n",
    "    def softmax(self, z):\n",
    "        # subtracting max value for numerical stability\n",
    "        y_hat = np.exp(z - np.max(z))\n",
    "    \n",
    "        # Probablity for each class\n",
    "        for i in range(len(y_hat)):\n",
    "            y_hat[i] = y_hat[i]/np.sum(y_hat[i])\n",
    "\n",
    "        return y_hat \n",
    "\n",
    "    def OneHotEncoder(self, y):\n",
    "        y_hot = np.zeros((len(y), self.n_class))\n",
    "        y_hot[np.arange(len(y)), y] = 1\n",
    "        return y_hot\n",
    "\n",
    "    def CostFunction(self, y_hot, y_hat):\n",
    "        return -(1/len(y_hat))*np.sum(y_hot*np.log(y_hat))\n",
    "\n",
    "    def fit(self, x, y):\n",
    "\n",
    "        n_samples, n_features = x.shape\n",
    "        self.w = np.zeros((self.n_class, n_features))\n",
    "        self.b = 0\n",
    "\n",
    "        losses = []\n",
    "\n",
    "        for epoch in range(self.epochs):\n",
    "\n",
    "            #calculate z = w*X +b\n",
    "            z = np.dot(x, self.w.T) + self.b\n",
    "            \n",
    "            # call softamx on z\n",
    "            y_pred = self.softmax(z)\n",
    "\n",
    "            # OneHotencoding y\n",
    "            y_hot = self.OneHotEncoder(y)\n",
    "\n",
    "            # calculate loss\n",
    "            loss = self.CostFunction(y_hot, y_pred)\n",
    "\n",
    "            #apppend the loss\n",
    "            losses.append(loss)\n",
    "        \n",
    "            #Gradient \n",
    "            dw = (-2/n_samples)*np.dot((y_hot - y_pred).T, x)\n",
    "            db = (-2/n_samples)*np.sum(y_hot - y_pred)\n",
    "        \n",
    "            #update parameters\n",
    "            self.w = self.w - self.lr*dw\n",
    "            self.b = self.b - self.lr*db\n",
    "        \n",
    "            if epoch%100==0:\n",
    "                print(f\"Training: Epochs {epoch}, loss:{loss}\")\n",
    "\n",
    "        return losses \n",
    "\n",
    "    def predict(self, x, y):\n",
    "        z =  np.dot(x, self.w.T) + self.b\n",
    "        y_pred =  self.softmax(z) \n",
    "        return (np.argmax(y_pred,axis=1)==y).mean()\n",
    "    "
   ]
  },
  {
   "cell_type": "code",
   "execution_count": 3,
   "metadata": {},
   "outputs": [
    {
     "name": "stdout",
     "output_type": "stream",
     "text": [
      "Training: Epochs 0, loss:1.0986122886681098\n",
      "Training: Epochs 100, loss:0.94099594429686\n",
      "Training: Epochs 200, loss:0.8316283304258539\n",
      "Training: Epochs 300, loss:0.7541397115649797\n",
      "Training: Epochs 400, loss:0.6975301011687622\n",
      "Training: Epochs 500, loss:0.6548265443961245\n",
      "Training: Epochs 600, loss:0.6216459881051111\n",
      "Training: Epochs 700, loss:0.5951890432201893\n",
      "Training: Epochs 800, loss:0.5736206541345377\n",
      "Training: Epochs 900, loss:0.5557027281358384\n"
     ]
    },
    {
     "data": {
      "image/png": "[encoded data removed]",
      "text/plain": [
       "<Figure size 432x288 with 1 Axes>"
      ]
     },
     "metadata": {
      "needs_background": "light"
     },
     "output_type": "display_data"
    }
   ],
   "source": [
    "multi = SoftmaxRegression(epochs =1000, lr =0.001, n_class=3)\n",
    "losses = multi.fit(x_train, y_train)\n",
    "\n",
    "plt.plot(range(1000), losses)\n",
    "plt.show()\n"
   ]
  },
  {
   "cell_type": "code",
   "execution_count": 4,
   "metadata": {},
   "outputs": [
    {
     "data": {
      "text/plain": [
       "0.8666666666666667"
      ]
     },
     "execution_count": 4,
     "metadata": {},
     "output_type": "execute_result"
    }
   ],
   "source": [
    "multi.predict(x_test, y_test)"
   ]
  },
  {
   "cell_type": "code",
   "execution_count": 5,
   "metadata": {},
   "outputs": [
    {
     "data": {
      "image/png": "[encoded data removed]",
      "text/plain": [
       "<Figure size 720x288 with 10 Axes>"
      ]
     },
     "metadata": {},
     "output_type": "display_data"
    }
   ],
   "source": [
    "import tensorflow as tf \n",
    "\n",
    "(x_train, y_train), (x_test,y_test) = tf.keras.datasets.mnist.load_data() \n",
    "\n",
    "plt.figure(figsize=(10,4))\n",
    "\n",
    "for i in range(10):\n",
    "    plt.subplot(2,5,i+1)\n",
    "    plt.imshow(x_train[i])\n",
    "    plt.xticks([])\n",
    "    plt.yticks([])\n",
    "    plt.xlabel(y_train[i])"
   ]
  },
  {
   "cell_type": "code",
   "execution_count": 6,
   "metadata": {},
   "outputs": [
    {
     "data": {
      "text/plain": [
       "((60000, 28, 28), (60000,))"
      ]
     },
     "execution_count": 6,
     "metadata": {},
     "output_type": "execute_result"
    }
   ],
   "source": [
    "x_train.shape, y_train.shape "
   ]
  },
  {
   "cell_type": "code",
   "execution_count": 7,
   "metadata": {},
   "outputs": [],
   "source": [
    "#slicing just to look the result at first 20000 images\n",
    "x_train = x_train[0:20000,]\n",
    "y_train = y_train[0:20000,]\n",
    "\n",
    "x_test = x_test[0:5000,]\n",
    "y_test = y_test[0:5000,]\n",
    "\n",
    "\n",
    "#Vector with 28*28 =784 features\n",
    "x_train = x_train.reshape(x_train.shape[0], 28*28)\n",
    "x_test  = x_test.reshape(x_test.shape[0], 28*28)\n",
    "\n",
    "#Normalizing\n",
    "x_train = x_train/255.0\n",
    "x_test = x_test/255.0\n"
   ]
  },
  {
   "cell_type": "code",
   "execution_count": 8,
   "metadata": {},
   "outputs": [
    {
     "name": "stdout",
     "output_type": "stream",
     "text": [
      "Training: Epochs 0, loss:2.302585092994046\n",
      "Training: Epochs 100, loss:0.4849704110992618\n",
      "Training: Epochs 200, loss:0.40653743632344624\n",
      "Training: Epochs 300, loss:0.37291836816502394\n",
      "Training: Epochs 400, loss:0.3529044527751089\n",
      "Training: Epochs 500, loss:0.3391150637188346\n",
      "Training: Epochs 600, loss:0.3287926628300712\n",
      "Training: Epochs 700, loss:0.3206429740149302\n",
      "Training: Epochs 800, loss:0.3139664389165933\n",
      "Training: Epochs 900, loss:0.3083464582625639\n"
     ]
    },
    {
     "data": {
      "image/png": "[encoded data removed]",
      "text/plain": [
       "<Figure size 432x288 with 1 Axes>"
      ]
     },
     "metadata": {
      "needs_background": "light"
     },
     "output_type": "display_data"
    }
   ],
   "source": [
    "image_classification = SoftmaxRegression(epochs=1000, lr = 0.1, n_class = 10)\n",
    "losses = image_classification.fit(x_train,y_train)\n",
    "\n",
    "plt.plot(range(1000), losses)\n",
    "plt.show()"
   ]
  },
  {
   "cell_type": "code",
   "execution_count": 9,
   "metadata": {},
   "outputs": [
    {
     "data": {
      "text/plain": [
       "0.8892"
      ]
     },
     "execution_count": 9,
     "metadata": {},
     "output_type": "execute_result"
    }
   ],
   "source": [
    "image_classification.predict(x_test,y_test)"
   ]
  }
 ],
 "metadata": {
  "kernelspec": {
   "display_name": "Python 3.10.5 64-bit",
   "language": "python",
   "name": "python3"
  },
  "language_info": {
   "codemirror_mode": {
    "name": "ipython",
    "version": 3
   },
   "file_extension": ".py",
   "mimetype": "text/x-python",
   "name": "python",
   "nbconvert_exporter": "python",
   "pygments_lexer": "ipython3",
   "version": "3.10.5"
  },
  "orig_nbformat": 4,
  "vscode": {
   "interpreter": {
    "hash": "1e6777404cc7eb28e5b808e7807006eb549a6339bdaf82fda99a64f1f5a83e79"
   }
  }
 },
 "nbformat": 4,
 "nbformat_minor": 2
}
