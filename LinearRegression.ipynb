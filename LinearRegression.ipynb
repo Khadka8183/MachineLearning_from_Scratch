{
 "cells": [
  {
   "cell_type": "markdown",
   "id": "8af46042",
   "metadata": {},
   "source": [
    "# Linear Regression\n",
    "\n",
    "__Linear Equation__\n",
    "\\begin{equation}\n",
    "y = m*x + c\n",
    "\\end{equation}\n",
    "\n",
    "\n",
    "__Cost Function__\n",
    "\\begin{equation}\n",
    "\\begin{aligned}\n",
    "J = \\frac{1}{n} \\cdot\\sum_{i=1}^{n} (y_{real} - y_{pred})^2 \\\\\n",
    "J(m,c) = \\frac{1}{n} \\cdot\\sum_{i=1}^{n} (y_i - (m \\cdot x_i +c) )^2\n",
    "\\end{aligned}\n",
    "\\end{equation}\n",
    "\n",
    "\n",
    "__Partial derivative of cost function__\n",
    "\\begin{equation}\n",
    "\\begin{aligned}\n",
    "\\frac{\\partial J}{\\partial m} = \\frac{1}{n} \\cdot \\sum_{i=0}^{n}2 \\cdot(y_i - (m \\cdot x_i +c) ) \\cdot (-x_i) \\\\\n",
    "\\frac{\\partial J}{\\partial c} = \\frac{1}{n} \\cdot \\sum_{i=0}^{n}2 \\cdot(y_i - (m \\cdot x_i +c) ) \\cdot (-1)\n",
    "\\end{aligned}\n",
    "\\end{equation}\n",
    "\n",
    "\n",
    "__Gradient Descent with learning rate__\n",
    "\n",
    "\\begin{equation}\n",
    "\\begin{aligned}\n",
    "m = m_{now} - lr \\cdot \\frac{\\partial J}{\\partial m} \\\\\n",
    "c = c_{now} - lr \\cdot \\frac{\\partial J}{\\partial c}\n",
    "\\end{aligned}\n",
    "\\end{equation}\n"
   ]
  },
  {
   "cell_type": "code",
   "execution_count": 1,
   "id": "62165729",
   "metadata": {},
   "outputs": [
    {
     "data": {
      "image/png": "[encoded data removed]",
      "text/plain": [
       "<Figure size 432x288 with 1 Axes>"
      ]
     },
     "metadata": {
      "needs_background": "light"
     },
     "output_type": "display_data"
    },
    {
     "data": {
      "text/plain": [
       "(500, 1)"
      ]
     },
     "execution_count": 1,
     "metadata": {},
     "output_type": "execute_result"
    }
   ],
   "source": [
    "import matplotlib.pyplot as plt \n",
    "import numpy as np \n",
    "from sklearn import datasets\n",
    "\n",
    "x,y = datasets.make_regression(n_samples=500, n_features=1, noise=20, random_state=4)\n",
    "\n",
    "plt.scatter(x,y)\n",
    "plt.show()\n",
    "x.shape "
   ]
  },
  {
   "cell_type": "code",
   "execution_count": 3,
   "id": "bc64cac7",
   "metadata": {},
   "outputs": [],
   "source": [
    "class LinearRegression():\n",
    "\n",
    "    def __init__ (self, epochs=10000, lr=0.001):\n",
    "\n",
    "        self.epochs = epochs\n",
    "        self.lr = lr \n",
    "        self.w = None\n",
    "        self.b = None\n",
    "\n",
    "    def fit(self, x, y):\n",
    "\n",
    "        n_samples, n_features = x.shape \n",
    "\n",
    "        # intialize w and b\n",
    "        self.w = np.zeros(n_features)\n",
    "        self.b = 0\n",
    "\n",
    "        # loss \n",
    "        losses = []\n",
    "\n",
    "        for epoch in range(self.epochs):\n",
    "\n",
    "            # dot product\n",
    "            y_pred = np.dot(x, self.w.T) + self.b\n",
    "\n",
    "            # loss, RootMeanSquare\n",
    "            loss = np.sqrt(np.mean(y_pred - y)**2)\n",
    "\n",
    "            # append the loss\n",
    "            losses.append(loss)\n",
    "\n",
    "            # gradient descent\n",
    "            dw = (-2/n_samples)*np.dot((y - y_pred).T, x)\n",
    "            db = (-2/n_samples)*np.sum(y - y_pred)\n",
    "\n",
    "\n",
    "            # update w, b \n",
    "            self.w = self.w - self.lr*dw\n",
    "            self.b = self.b - self.lr*db \n",
    "\n",
    "            if epoch%1000 == 0:\n",
    "                print(f'Epochs:{epoch}, loss:{loss}')\n",
    "                \n",
    "        return losses\n",
    "\n",
    "\n",
    "    def predict(self,x):\n",
    "\n",
    "        # dot product\n",
    "        y_pred = np.dot(x, self.w) + self.b \n",
    "\n",
    "        return y_pred  "
   ]
  },
  {
   "cell_type": "code",
   "execution_count": 4,
   "id": "d0a043d9",
   "metadata": {},
   "outputs": [
    {
     "name": "stdout",
     "output_type": "stream",
     "text": [
      "Epochs:0, loss:5.484698593859862\n",
      "Epochs:1000, loss:0.5536504793332572\n",
      "Epochs:2000, loss:0.2737199929432627\n",
      "Epochs:3000, loss:0.06812901384479261\n",
      "Epochs:4000, loss:0.014160300905339056\n",
      "Epochs:5000, loss:0.002711893513007851\n",
      "Epochs:6000, loss:0.000496467700350081\n",
      "Epochs:7000, loss:8.842814528560439e-05\n",
      "Epochs:8000, loss:1.5473762606802667e-05\n",
      "Epochs:9000, loss:2.67574914977331e-06\n"
     ]
    },
    {
     "data": {
      "image/png": "[encoded data removed]",
      "text/plain": [
       "<Figure size 432x288 with 1 Axes>"
      ]
     },
     "metadata": {
      "needs_background": "light"
     },
     "output_type": "display_data"
    }
   ],
   "source": [
    "linear = LinearRegression()\n",
    "\n",
    "losses = linear.fit(x,y)\n",
    "plt.plot(range(10000), losses)\n",
    "plt.show()"
   ]
  },
  {
   "cell_type": "code",
   "execution_count": 5,
   "id": "f198de3d",
   "metadata": {},
   "outputs": [
    {
     "data": {
      "image/png": "[encoded data removed]",
      "text/plain": [
       "<Figure size 432x288 with 1 Axes>"
      ]
     },
     "metadata": {
      "needs_background": "light"
     },
     "output_type": "display_data"
    }
   ],
   "source": [
    "y_pred = linear.predict(x)\n",
    "\n",
    "plt.scatter(x,y)\n",
    "plt.plot(x,y_pred, 'r')\n",
    "plt.show()"
   ]
  },
  {
   "cell_type": "code",
   "execution_count": null,
   "id": "bde5a0fa",
   "metadata": {},
   "outputs": [],
   "source": []
  },
  {
   "cell_type": "code",
   "execution_count": null,
   "id": "ed6887bd",
   "metadata": {},
   "outputs": [],
   "source": []
  }
 ],
 "metadata": {
  "kernelspec": {
   "display_name": "Python 3.10.5 64-bit",
   "language": "python",
   "name": "python3"
  },
  "language_info": {
   "codemirror_mode": {
    "name": "ipython",
    "version": 3
   },
   "file_extension": ".py",
   "mimetype": "text/x-python",
   "name": "python",
   "nbconvert_exporter": "python",
   "pygments_lexer": "ipython3",
   "version": "3.10.5"
  },
  "latex_envs": {
   "LaTeX_envs_menu_present": true,
   "autoclose": false,
   "autocomplete": true,
   "bibliofile": "biblio.bib",
   "cite_by": "apalike",
   "current_citInitial": 1,
   "eqLabelWithNumbers": true,
   "eqNumInitial": 1,
   "hotkeys": {
    "equation": "Ctrl-E",
    "itemize": "Ctrl-I"
   },
   "labels_anchors": false,
   "latex_user_defs": false,
   "report_style_numbering": false,
   "user_envs_cfg": false
  },
  "toc": {
   "base_numbering": 1,
   "nav_menu": {},
   "number_sections": true,
   "sideBar": true,
   "skip_h1_title": false,
   "title_cell": "Table of Contents",
   "title_sidebar": "Contents",
   "toc_cell": false,
   "toc_position": {},
   "toc_section_display": true,
   "toc_window_display": false
  },
  "vscode": {
   "interpreter": {
    "hash": "1e6777404cc7eb28e5b808e7807006eb549a6339bdaf82fda99a64f1f5a83e79"
   }
  }
 },
 "nbformat": 4,
 "nbformat_minor": 5
}
